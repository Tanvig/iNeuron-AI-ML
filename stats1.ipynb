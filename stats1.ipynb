{
 "cells": [
  {
   "cell_type": "markdown",
   "metadata": {},
   "source": [
    "Problem Statement 1:\n",
    "    \n",
    "You survey households in your area to find the average rent they are paying. Find the\n",
    "standard deviation from the following data:\n",
    "\n",
    "$1550, $1700, $900, $850, $1000, $950.\n"
   ]
  },
  {
   "cell_type": "code",
   "execution_count": 4,
   "metadata": {},
   "outputs": [
    {
     "data": {
      "text/plain": [
       "326.59863237109045"
      ]
     },
     "execution_count": 4,
     "metadata": {},
     "output_type": "execute_result"
    }
   ],
   "source": [
    "# ans\n",
    "\n",
    "import numpy as np\n",
    "\n",
    "np.std(np.array([1500, 1700, 900, 850, 1000, 950]))"
   ]
  },
  {
   "cell_type": "code",
   "execution_count": 6,
   "metadata": {},
   "outputs": [
    {
     "data": {
      "text/plain": [
       "326.59863237109045"
      ]
     },
     "execution_count": 6,
     "metadata": {},
     "output_type": "execute_result"
    }
   ],
   "source": [
    "# without package\n",
    "\n",
    "data = [1500, 1700, 900, 850,1000, 950]\n",
    "\n",
    "mean = sum(data)/len(data)\n",
    "val = 0\n",
    "\n",
    "for i in data:\n",
    "    val += pow((i - mean),2)\n",
    "\n",
    "std_dev = np.sqrt(val/len(data))\n",
    "std_dev"
   ]
  },
  {
   "cell_type": "markdown",
   "metadata": {},
   "source": [
    "Problem Statement 2:\n",
    "Find the variance for the following set of data representing trees in California (heights in\n",
    "feet):\n",
    "3, 21, 98, 203, 17, 9"
   ]
  },
  {
   "cell_type": "code",
   "execution_count": 7,
   "metadata": {},
   "outputs": [
    {
     "data": {
      "text/plain": [
       "5183.25"
      ]
     },
     "execution_count": 7,
     "metadata": {},
     "output_type": "execute_result"
    }
   ],
   "source": [
    "np.var([3,21,98,203,17,9])"
   ]
  },
  {
   "cell_type": "code",
   "execution_count": 12,
   "metadata": {},
   "outputs": [
    {
     "data": {
      "text/plain": [
       "5183.25"
      ]
     },
     "execution_count": 12,
     "metadata": {},
     "output_type": "execute_result"
    }
   ],
   "source": [
    "data = [3,21,98,203,17,9]\n",
    "\n",
    "val = 0\n",
    "\n",
    "mean = sum(data)/len(data)\n",
    "\n",
    "for i in data:\n",
    "    val += pow((i - mean), 2)\n",
    "\n",
    "    \n",
    "variance = val /len(data)\n",
    "variance"
   ]
  },
  {
   "cell_type": "markdown",
   "metadata": {},
   "source": [
    "Problem Statement 3:\n",
    "In a class on 100 students, 80 students passed in all subjects, 10 failed in one subject, 7\n",
    "failed in two subjects and 3 failed in three subjects. Find the probability distribution of\n",
    "the variable for number of subjects a student from the given class has failed in."
   ]
  },
  {
   "cell_type": "code",
   "execution_count": 19,
   "metadata": {},
   "outputs": [
    {
     "name": "stdout",
     "output_type": "stream",
     "text": [
      "The probablity distribution for x in (0, 1, 2, 3) is P(x) (0.8, 0.1, 0.07, 0.03) \n",
      " where x is a distribution for a student failing\n"
     ]
    }
   ],
   "source": [
    "probablity_failing_0_subjects = 80/100\n",
    "probablity_failing_1_subjects = 10/100\n",
    "probablity_failing_2_subjects = 7/100\n",
    "probablity_failing_3_subjects = 3/100\n",
    "\n",
    "print(\"The probablity distribution for x in (0, 1, 2, 3) is P(x) ({}, {}, {}, {}) \\n where x is a distribution for a student failing\".format(probablity_failing_0_subjects, \n",
    "                                                                                          probablity_failing_1_subjects,\n",
    "                                                                                         probablity_failing_2_subjects,\n",
    "                                                                                         probablity_failing_3_subjects))"
   ]
  }
 ],
 "metadata": {
  "kernelspec": {
   "display_name": "Python 3",
   "language": "python",
   "name": "python3"
  },
  "language_info": {
   "codemirror_mode": {
    "name": "ipython",
    "version": 3
   },
   "file_extension": ".py",
   "mimetype": "text/x-python",
   "name": "python",
   "nbconvert_exporter": "python",
   "pygments_lexer": "ipython3",
   "version": "3.7.3"
  }
 },
 "nbformat": 4,
 "nbformat_minor": 4
}
