{
  "nbformat": 4,
  "nbformat_minor": 0,
  "metadata": {
    "colab": {
      "name": "iNeuronScreeningAssignment.ipynb",
      "provenance": [],
      "authorship_tag": "ABX9TyMpzkJ/0cVqiowxgheBjpd2"
    },
    "kernelspec": {
      "name": "python3",
      "display_name": "Python 3"
    },
    "language_info": {
      "name": "python"
    }
  },
  "cells": [
    {
      "cell_type": "markdown",
      "source": [
        "# Python Screening Assignment"
      ],
      "metadata": {
        "id": "SjLG0srTNMtK"
      }
    },
    {
      "cell_type": "markdown",
      "source": [
        "### 1. Create a function in python to read the text file and replace specific content of the file.\n",
        "\n",
        "### File name:                example.txt\n",
        "### Origin file content:      This is a placement assignment\n",
        "### Replace string:           Placement should be replaced by screening.\n",
        "### Replaced file content:    This is a screening assignment"
      ],
      "metadata": {
        "id": "VUs5-GnwNMkg"
      }
    },
    {
      "cell_type": "code",
      "source": [
        "to_replace = \"placement\"                                  # this variable contains the text that we want to replace\n",
        "replace_with = \"screening\"                                # this variable contains the text to replace with\n",
        "\n",
        "with open(r'example.txt', 'r') as f:                         # opens the mentioned file in the read only mode\n",
        "    data = f.read()                                       # reading the file contents and storing them in the data variable\n",
        "    data = data.replace(to_replace, replace_with)         # replacing the desired text string\n",
        "\n",
        "\n",
        "with open(r'example.txt', 'w') as f:                 # opening the text file in the write only mode\n",
        "    f.write(data)                                         #writing the replaced data back to the file"
      ],
      "metadata": {
        "id": "1ggGvTrNNHbx"
      },
      "execution_count": null,
      "outputs": []
    },
    {
      "cell_type": "markdown",
      "source": [
        "### 2. Demonstrate use of abstract class, multiple inheritance and decorator in python using examples."
      ],
      "metadata": {
        "id": "CpC72H-gNK73"
      }
    },
    {
      "cell_type": "code",
      "source": [
        "from abc import ABC, abstractmethod\n",
        "\n",
        "# In object-oriented programming, an abstract class is a class that cannot be instantiated, but we can create classes that inherit from it.\n",
        "\n",
        "\n",
        "class Animal(ABC):                                   # abstract class definition\n",
        "  @abstractmethod\n",
        "  def Mammal(self):                                  # an abstract function\n",
        "    print (\"this is Mammal\")\n",
        "class Cow(Animal):                                   # a class that inherits from the abstract class\n",
        "  def Mammal(self):\n",
        "    super().Mammal()\n",
        "    print (\"this is a cow\")\n",
        "\n",
        "print (\"Example of abstract class\\n\")\n",
        "x = Cow()\n",
        "x.Mammal()\n",
        "\n",
        "\n",
        "# When a class is derived from more than one base class it is called multiple Inheritance. The derived class inherits all the features of the base case.\n",
        "\n",
        "\n",
        "class Calculator1:                                      # Base class one\n",
        "    def Sum(self,a,b):  \n",
        "        return a+b;  \n",
        "\n",
        "\n",
        "class Calculator2:                                      # Base class two\n",
        "    def Multiply(self,a,b):  \n",
        "        return a*b;  \n",
        "\n",
        "\n",
        "class Derived(Calculator1,Calculator2):                 # Derived class\n",
        "    def Divide(self,a,b):  \n",
        "        return a/b;  \n",
        "d = Derived()  \n",
        "\n",
        "print(\"\\nExample of multiple inheritance\\n\")\n",
        "print(d.Sum(1,2))  \n",
        "print(d.Multiply(1,2))  \n",
        "print(d.Divide(1,2)) \n",
        "\n",
        "\n",
        "# Decorators allow us to wrap another function in order to extend the behaviour of the wrapped function, without permanently modifying it.\n",
        "\n",
        "\n",
        "def hello_decorator(func):                                         # definition of decorator\n",
        " \n",
        "    def inner1():                                                  # inner1 is a Wrapper function in which the argument is called and it can access the outer local function 'func'\n",
        "        print(\"Hello, this is before function execution\")\n",
        "                             \n",
        "        func()                                                     # outer function being called inside the wrapper function\n",
        " \n",
        "        print(\"This is after function execution\")\n",
        "         \n",
        "    return inner1\n",
        " \n",
        " \n",
        "\n",
        "def function_to_be_used():                                         # defining a function, to be called inside wrapper\n",
        "    print(\"This is inside the function !!\")\n",
        " \n",
        " \n",
        "function_to_be_used = hello_decorator(function_to_be_used)         # passing 'function_to_be_used' inside the decorator to control its behaviour\n",
        " \n",
        "print(\"\\nExample of decorator function\\n\")\n",
        "function_to_be_used()\n",
        "\n",
        "\n"
      ],
      "metadata": {
        "id": "2i81pgzjMp5S",
        "colab": {
          "base_uri": "https://localhost:8080/"
        },
        "outputId": "1b7b4175-a8db-4eca-88f3-6edecf934b8b"
      },
      "execution_count": 11,
      "outputs": [
        {
          "output_type": "stream",
          "name": "stdout",
          "text": [
            "Example of abstract class\n",
            "\n",
            "this is Mammal\n",
            "this is a cow\n",
            "\n",
            "Example of multiple inheritance\n",
            "\n",
            "3\n",
            "2\n",
            "0.5\n",
            "\n",
            "Example of decorator function\n",
            "\n",
            "Hello, this is before function execution\n",
            "This is inside the function !!\n",
            "This is after function execution\n"
          ]
        }
      ]
    }
  ]
}