{
 "cells": [
  {
   "cell_type": "markdown",
   "metadata": {},
   "source": [
    "I decided to treat this as a classification problem by creating a new binary variable affair (did the woman have at least one affair?) and trying to predict the classification for each woman.\n",
    "\n",
    "Dataset\n",
    "\n",
    "The dataset I chose is the affairs dataset that comes with Statsmodels. It was derived from a survey of women in 1974 by Redbook magazine, in which married women were asked about their participation in extramarital affairs. More information about the study is available in a 1978 paper from the Journal of Political Economy.\n",
    "\n",
    "rate_marriage: woman's rating of her marriage (1 = very poor, 5 = very good)\n",
    "\n",
    "age: woman's age\n",
    "\n",
    "yrs_married: number of years married\n",
    "\n",
    "children: number of children\n",
    "\n",
    "religious: woman's rating of how religious she is (1 = not religious, 4 = strongly religious)\n",
    "\n",
    "educ: level of education (9 = grade school, 12 = high school, 14 = some college, 16 = college graduate, 17 = some graduate school, 20 = advanced degree)\n",
    "\n",
    "occupation: woman's occupation (1 = student, 2 = farming/semi-skilled/unskilled, 3 = \"white collar\", 4 = \n",
    "teacher/nurse/writer/technician/skilled, 5 = managerial/business, 6 = professional with advanced degree)\n",
    "\n",
    "occupation_husb: husband's occupation (same coding as above)\n",
    "\n",
    "affairs: time spent in extra-marital affairs"
   ]
  },
  {
   "cell_type": "code",
   "execution_count": 128,
   "metadata": {},
   "outputs": [],
   "source": [
    "import numpy as np\n",
    "import pandas as pd\n",
    "import statsmodels.api as sm\n",
    "import matplotlib.pyplot as plt\n",
    "from patsy import dmatrices\n",
    "from sklearn.linear_model import LogisticRegression\n",
    "from sklearn.model_selection import train_test_split\n",
    "from sklearn import metrics\n",
    "from sklearn. model_selection import GridSearchCV\n",
    "import seaborn as sns\n",
    "from sklearn.metrics import accuracy_score, precision_score, f1_score, recall_score"
   ]
  },
  {
   "cell_type": "markdown",
   "metadata": {},
   "source": [
    "## LOADING AND PROCESSING DATA"
   ]
  },
  {
   "cell_type": "code",
   "execution_count": 4,
   "metadata": {},
   "outputs": [
    {
     "data": {
      "text/html": [
       "<div>\n",
       "<style scoped>\n",
       "    .dataframe tbody tr th:only-of-type {\n",
       "        vertical-align: middle;\n",
       "    }\n",
       "\n",
       "    .dataframe tbody tr th {\n",
       "        vertical-align: top;\n",
       "    }\n",
       "\n",
       "    .dataframe thead th {\n",
       "        text-align: right;\n",
       "    }\n",
       "</style>\n",
       "<table border=\"1\" class=\"dataframe\">\n",
       "  <thead>\n",
       "    <tr style=\"text-align: right;\">\n",
       "      <th></th>\n",
       "      <th>rate_marriage</th>\n",
       "      <th>age</th>\n",
       "      <th>yrs_married</th>\n",
       "      <th>children</th>\n",
       "      <th>religious</th>\n",
       "      <th>educ</th>\n",
       "      <th>occupation</th>\n",
       "      <th>occupation_husb</th>\n",
       "      <th>affairs</th>\n",
       "    </tr>\n",
       "  </thead>\n",
       "  <tbody>\n",
       "    <tr>\n",
       "      <th>0</th>\n",
       "      <td>3.0</td>\n",
       "      <td>32.0</td>\n",
       "      <td>9.0</td>\n",
       "      <td>3.0</td>\n",
       "      <td>3.0</td>\n",
       "      <td>17.0</td>\n",
       "      <td>2.0</td>\n",
       "      <td>5.0</td>\n",
       "      <td>0.111111</td>\n",
       "    </tr>\n",
       "    <tr>\n",
       "      <th>1</th>\n",
       "      <td>3.0</td>\n",
       "      <td>27.0</td>\n",
       "      <td>13.0</td>\n",
       "      <td>3.0</td>\n",
       "      <td>1.0</td>\n",
       "      <td>14.0</td>\n",
       "      <td>3.0</td>\n",
       "      <td>4.0</td>\n",
       "      <td>3.230769</td>\n",
       "    </tr>\n",
       "    <tr>\n",
       "      <th>2</th>\n",
       "      <td>4.0</td>\n",
       "      <td>22.0</td>\n",
       "      <td>2.5</td>\n",
       "      <td>0.0</td>\n",
       "      <td>1.0</td>\n",
       "      <td>16.0</td>\n",
       "      <td>3.0</td>\n",
       "      <td>5.0</td>\n",
       "      <td>1.400000</td>\n",
       "    </tr>\n",
       "    <tr>\n",
       "      <th>3</th>\n",
       "      <td>4.0</td>\n",
       "      <td>37.0</td>\n",
       "      <td>16.5</td>\n",
       "      <td>4.0</td>\n",
       "      <td>3.0</td>\n",
       "      <td>16.0</td>\n",
       "      <td>5.0</td>\n",
       "      <td>5.0</td>\n",
       "      <td>0.727273</td>\n",
       "    </tr>\n",
       "    <tr>\n",
       "      <th>4</th>\n",
       "      <td>5.0</td>\n",
       "      <td>27.0</td>\n",
       "      <td>9.0</td>\n",
       "      <td>1.0</td>\n",
       "      <td>1.0</td>\n",
       "      <td>14.0</td>\n",
       "      <td>3.0</td>\n",
       "      <td>4.0</td>\n",
       "      <td>4.666666</td>\n",
       "    </tr>\n",
       "  </tbody>\n",
       "</table>\n",
       "</div>"
      ],
      "text/plain": [
       "   rate_marriage   age  yrs_married  children  religious  educ  occupation  \\\n",
       "0            3.0  32.0          9.0       3.0        3.0  17.0         2.0   \n",
       "1            3.0  27.0         13.0       3.0        1.0  14.0         3.0   \n",
       "2            4.0  22.0          2.5       0.0        1.0  16.0         3.0   \n",
       "3            4.0  37.0         16.5       4.0        3.0  16.0         5.0   \n",
       "4            5.0  27.0          9.0       1.0        1.0  14.0         3.0   \n",
       "\n",
       "   occupation_husb   affairs  \n",
       "0              5.0  0.111111  \n",
       "1              4.0  3.230769  \n",
       "2              5.0  1.400000  \n",
       "3              5.0  0.727273  \n",
       "4              4.0  4.666666  "
      ]
     },
     "execution_count": 4,
     "metadata": {},
     "output_type": "execute_result"
    }
   ],
   "source": [
    "# load dataset\n",
    "\n",
    "df = sm.datasets.fair.load_pandas().data\n",
    "df.head()"
   ]
  },
  {
   "cell_type": "code",
   "execution_count": 26,
   "metadata": {},
   "outputs": [
    {
     "data": {
      "text/plain": [
       "(6366, 10)"
      ]
     },
     "execution_count": 26,
     "metadata": {},
     "output_type": "execute_result"
    }
   ],
   "source": [
    "df.shape"
   ]
  },
  {
   "cell_type": "code",
   "execution_count": 5,
   "metadata": {},
   "outputs": [
    {
     "data": {
      "text/html": [
       "<div>\n",
       "<style scoped>\n",
       "    .dataframe tbody tr th:only-of-type {\n",
       "        vertical-align: middle;\n",
       "    }\n",
       "\n",
       "    .dataframe tbody tr th {\n",
       "        vertical-align: top;\n",
       "    }\n",
       "\n",
       "    .dataframe thead th {\n",
       "        text-align: right;\n",
       "    }\n",
       "</style>\n",
       "<table border=\"1\" class=\"dataframe\">\n",
       "  <thead>\n",
       "    <tr style=\"text-align: right;\">\n",
       "      <th></th>\n",
       "      <th>rate_marriage</th>\n",
       "      <th>age</th>\n",
       "      <th>yrs_married</th>\n",
       "      <th>children</th>\n",
       "      <th>religious</th>\n",
       "      <th>educ</th>\n",
       "      <th>occupation</th>\n",
       "      <th>occupation_husb</th>\n",
       "      <th>affairs</th>\n",
       "      <th>affair</th>\n",
       "    </tr>\n",
       "  </thead>\n",
       "  <tbody>\n",
       "    <tr>\n",
       "      <th>0</th>\n",
       "      <td>3.0</td>\n",
       "      <td>32.0</td>\n",
       "      <td>9.0</td>\n",
       "      <td>3.0</td>\n",
       "      <td>3.0</td>\n",
       "      <td>17.0</td>\n",
       "      <td>2.0</td>\n",
       "      <td>5.0</td>\n",
       "      <td>0.111111</td>\n",
       "      <td>1</td>\n",
       "    </tr>\n",
       "    <tr>\n",
       "      <th>1</th>\n",
       "      <td>3.0</td>\n",
       "      <td>27.0</td>\n",
       "      <td>13.0</td>\n",
       "      <td>3.0</td>\n",
       "      <td>1.0</td>\n",
       "      <td>14.0</td>\n",
       "      <td>3.0</td>\n",
       "      <td>4.0</td>\n",
       "      <td>3.230769</td>\n",
       "      <td>1</td>\n",
       "    </tr>\n",
       "    <tr>\n",
       "      <th>2</th>\n",
       "      <td>4.0</td>\n",
       "      <td>22.0</td>\n",
       "      <td>2.5</td>\n",
       "      <td>0.0</td>\n",
       "      <td>1.0</td>\n",
       "      <td>16.0</td>\n",
       "      <td>3.0</td>\n",
       "      <td>5.0</td>\n",
       "      <td>1.400000</td>\n",
       "      <td>1</td>\n",
       "    </tr>\n",
       "    <tr>\n",
       "      <th>3</th>\n",
       "      <td>4.0</td>\n",
       "      <td>37.0</td>\n",
       "      <td>16.5</td>\n",
       "      <td>4.0</td>\n",
       "      <td>3.0</td>\n",
       "      <td>16.0</td>\n",
       "      <td>5.0</td>\n",
       "      <td>5.0</td>\n",
       "      <td>0.727273</td>\n",
       "      <td>1</td>\n",
       "    </tr>\n",
       "    <tr>\n",
       "      <th>4</th>\n",
       "      <td>5.0</td>\n",
       "      <td>27.0</td>\n",
       "      <td>9.0</td>\n",
       "      <td>1.0</td>\n",
       "      <td>1.0</td>\n",
       "      <td>14.0</td>\n",
       "      <td>3.0</td>\n",
       "      <td>4.0</td>\n",
       "      <td>4.666666</td>\n",
       "      <td>1</td>\n",
       "    </tr>\n",
       "  </tbody>\n",
       "</table>\n",
       "</div>"
      ],
      "text/plain": [
       "   rate_marriage   age  yrs_married  children  religious  educ  occupation  \\\n",
       "0            3.0  32.0          9.0       3.0        3.0  17.0         2.0   \n",
       "1            3.0  27.0         13.0       3.0        1.0  14.0         3.0   \n",
       "2            4.0  22.0          2.5       0.0        1.0  16.0         3.0   \n",
       "3            4.0  37.0         16.5       4.0        3.0  16.0         5.0   \n",
       "4            5.0  27.0          9.0       1.0        1.0  14.0         3.0   \n",
       "\n",
       "   occupation_husb   affairs  affair  \n",
       "0              5.0  0.111111       1  \n",
       "1              4.0  3.230769       1  \n",
       "2              5.0  1.400000       1  \n",
       "3              5.0  0.727273       1  \n",
       "4              4.0  4.666666       1  "
      ]
     },
     "execution_count": 5,
     "metadata": {},
     "output_type": "execute_result"
    }
   ],
   "source": [
    "# We will add an target column named \"affair\" where 1 represents having affairs, 0 represents not\n",
    "# This column can be determined from the \"affairs\" column.\n",
    "\n",
    "df['affair'] = (df.affairs > 0).astype(int)\n",
    "df.head()"
   ]
  },
  {
   "cell_type": "code",
   "execution_count": 13,
   "metadata": {},
   "outputs": [
    {
     "name": "stdout",
     "output_type": "stream",
     "text": [
      "<class 'pandas.core.frame.DataFrame'>\n",
      "RangeIndex: 6366 entries, 0 to 6365\n",
      "Data columns (total 10 columns):\n",
      " #   Column           Non-Null Count  Dtype  \n",
      "---  ------           --------------  -----  \n",
      " 0   rate_marriage    6366 non-null   float64\n",
      " 1   age              6366 non-null   float64\n",
      " 2   yrs_married      6366 non-null   float64\n",
      " 3   children         6366 non-null   float64\n",
      " 4   religious        6366 non-null   float64\n",
      " 5   educ             6366 non-null   float64\n",
      " 6   occupation       6366 non-null   float64\n",
      " 7   occupation_husb  6366 non-null   float64\n",
      " 8   affairs          6366 non-null   float64\n",
      " 9   affair           6366 non-null   int32  \n",
      "dtypes: float64(9), int32(1)\n",
      "memory usage: 472.6 KB\n"
     ]
    }
   ],
   "source": [
    "df.info()"
   ]
  },
  {
   "cell_type": "code",
   "execution_count": 14,
   "metadata": {},
   "outputs": [
    {
     "data": {
      "text/html": [
       "<div>\n",
       "<style scoped>\n",
       "    .dataframe tbody tr th:only-of-type {\n",
       "        vertical-align: middle;\n",
       "    }\n",
       "\n",
       "    .dataframe tbody tr th {\n",
       "        vertical-align: top;\n",
       "    }\n",
       "\n",
       "    .dataframe thead th {\n",
       "        text-align: right;\n",
       "    }\n",
       "</style>\n",
       "<table border=\"1\" class=\"dataframe\">\n",
       "  <thead>\n",
       "    <tr style=\"text-align: right;\">\n",
       "      <th></th>\n",
       "      <th>rate_marriage</th>\n",
       "      <th>age</th>\n",
       "      <th>yrs_married</th>\n",
       "      <th>children</th>\n",
       "      <th>religious</th>\n",
       "      <th>educ</th>\n",
       "      <th>occupation</th>\n",
       "      <th>occupation_husb</th>\n",
       "      <th>affairs</th>\n",
       "      <th>affair</th>\n",
       "    </tr>\n",
       "  </thead>\n",
       "  <tbody>\n",
       "    <tr>\n",
       "      <th>count</th>\n",
       "      <td>6366.000000</td>\n",
       "      <td>6366.000000</td>\n",
       "      <td>6366.000000</td>\n",
       "      <td>6366.000000</td>\n",
       "      <td>6366.000000</td>\n",
       "      <td>6366.000000</td>\n",
       "      <td>6366.000000</td>\n",
       "      <td>6366.000000</td>\n",
       "      <td>6366.000000</td>\n",
       "      <td>6366.000000</td>\n",
       "    </tr>\n",
       "    <tr>\n",
       "      <th>mean</th>\n",
       "      <td>4.109645</td>\n",
       "      <td>29.082862</td>\n",
       "      <td>9.009425</td>\n",
       "      <td>1.396874</td>\n",
       "      <td>2.426170</td>\n",
       "      <td>14.209865</td>\n",
       "      <td>3.424128</td>\n",
       "      <td>3.850141</td>\n",
       "      <td>0.705374</td>\n",
       "      <td>0.322495</td>\n",
       "    </tr>\n",
       "    <tr>\n",
       "      <th>std</th>\n",
       "      <td>0.961430</td>\n",
       "      <td>6.847882</td>\n",
       "      <td>7.280120</td>\n",
       "      <td>1.433471</td>\n",
       "      <td>0.878369</td>\n",
       "      <td>2.178003</td>\n",
       "      <td>0.942399</td>\n",
       "      <td>1.346435</td>\n",
       "      <td>2.203374</td>\n",
       "      <td>0.467468</td>\n",
       "    </tr>\n",
       "    <tr>\n",
       "      <th>min</th>\n",
       "      <td>1.000000</td>\n",
       "      <td>17.500000</td>\n",
       "      <td>0.500000</td>\n",
       "      <td>0.000000</td>\n",
       "      <td>1.000000</td>\n",
       "      <td>9.000000</td>\n",
       "      <td>1.000000</td>\n",
       "      <td>1.000000</td>\n",
       "      <td>0.000000</td>\n",
       "      <td>0.000000</td>\n",
       "    </tr>\n",
       "    <tr>\n",
       "      <th>25%</th>\n",
       "      <td>4.000000</td>\n",
       "      <td>22.000000</td>\n",
       "      <td>2.500000</td>\n",
       "      <td>0.000000</td>\n",
       "      <td>2.000000</td>\n",
       "      <td>12.000000</td>\n",
       "      <td>3.000000</td>\n",
       "      <td>3.000000</td>\n",
       "      <td>0.000000</td>\n",
       "      <td>0.000000</td>\n",
       "    </tr>\n",
       "    <tr>\n",
       "      <th>50%</th>\n",
       "      <td>4.000000</td>\n",
       "      <td>27.000000</td>\n",
       "      <td>6.000000</td>\n",
       "      <td>1.000000</td>\n",
       "      <td>2.000000</td>\n",
       "      <td>14.000000</td>\n",
       "      <td>3.000000</td>\n",
       "      <td>4.000000</td>\n",
       "      <td>0.000000</td>\n",
       "      <td>0.000000</td>\n",
       "    </tr>\n",
       "    <tr>\n",
       "      <th>75%</th>\n",
       "      <td>5.000000</td>\n",
       "      <td>32.000000</td>\n",
       "      <td>16.500000</td>\n",
       "      <td>2.000000</td>\n",
       "      <td>3.000000</td>\n",
       "      <td>16.000000</td>\n",
       "      <td>4.000000</td>\n",
       "      <td>5.000000</td>\n",
       "      <td>0.484848</td>\n",
       "      <td>1.000000</td>\n",
       "    </tr>\n",
       "    <tr>\n",
       "      <th>max</th>\n",
       "      <td>5.000000</td>\n",
       "      <td>42.000000</td>\n",
       "      <td>23.000000</td>\n",
       "      <td>5.500000</td>\n",
       "      <td>4.000000</td>\n",
       "      <td>20.000000</td>\n",
       "      <td>6.000000</td>\n",
       "      <td>6.000000</td>\n",
       "      <td>57.599991</td>\n",
       "      <td>1.000000</td>\n",
       "    </tr>\n",
       "  </tbody>\n",
       "</table>\n",
       "</div>"
      ],
      "text/plain": [
       "       rate_marriage          age  yrs_married     children    religious  \\\n",
       "count    6366.000000  6366.000000  6366.000000  6366.000000  6366.000000   \n",
       "mean        4.109645    29.082862     9.009425     1.396874     2.426170   \n",
       "std         0.961430     6.847882     7.280120     1.433471     0.878369   \n",
       "min         1.000000    17.500000     0.500000     0.000000     1.000000   \n",
       "25%         4.000000    22.000000     2.500000     0.000000     2.000000   \n",
       "50%         4.000000    27.000000     6.000000     1.000000     2.000000   \n",
       "75%         5.000000    32.000000    16.500000     2.000000     3.000000   \n",
       "max         5.000000    42.000000    23.000000     5.500000     4.000000   \n",
       "\n",
       "              educ   occupation  occupation_husb      affairs       affair  \n",
       "count  6366.000000  6366.000000      6366.000000  6366.000000  6366.000000  \n",
       "mean     14.209865     3.424128         3.850141     0.705374     0.322495  \n",
       "std       2.178003     0.942399         1.346435     2.203374     0.467468  \n",
       "min       9.000000     1.000000         1.000000     0.000000     0.000000  \n",
       "25%      12.000000     3.000000         3.000000     0.000000     0.000000  \n",
       "50%      14.000000     3.000000         4.000000     0.000000     0.000000  \n",
       "75%      16.000000     4.000000         5.000000     0.484848     1.000000  \n",
       "max      20.000000     6.000000         6.000000    57.599991     1.000000  "
      ]
     },
     "execution_count": 14,
     "metadata": {},
     "output_type": "execute_result"
    }
   ],
   "source": [
    "df.describe()"
   ]
  },
  {
   "cell_type": "code",
   "execution_count": 16,
   "metadata": {},
   "outputs": [
    {
     "name": "stdout",
     "output_type": "stream",
     "text": [
      "The number of unqiue values for rate_marriage column is 5 \n",
      "\n",
      "The number of unqiue values for age column is 6 \n",
      "\n",
      "The number of unqiue values for yrs_married column is 7 \n",
      "\n",
      "The number of unqiue values for children column is 6 \n",
      "\n",
      "The number of unqiue values for religious column is 4 \n",
      "\n",
      "The number of unqiue values for educ column is 6 \n",
      "\n",
      "The number of unqiue values for occupation column is 6 \n",
      "\n",
      "The number of unqiue values for occupation_husb column is 6 \n",
      "\n",
      "The number of unqiue values for affairs column is 77 \n",
      "\n",
      "The number of unqiue values for affair column is 2 \n",
      "\n"
     ]
    }
   ],
   "source": [
    "for i in df.columns:\n",
    "    print(\"The number of unqiue values for {} column is {} \\n\". format (i, df[i].value_counts().count()))"
   ]
  },
  {
   "cell_type": "markdown",
   "metadata": {},
   "source": [
    "Since there seem to be many categorical type columns, it would be better to explore their values."
   ]
  },
  {
   "cell_type": "code",
   "execution_count": 25,
   "metadata": {},
   "outputs": [
    {
     "name": "stdout",
     "output_type": "stream",
     "text": [
      "The number of unqiue values for rate_marriage column is: \n",
      "5.0    2684\n",
      "4.0    2242\n",
      "3.0     993\n",
      "2.0     348\n",
      "1.0      99\n",
      "Name: rate_marriage, dtype: int64\n",
      "\n",
      "\n",
      "The number of unqiue values for age column is: \n",
      "27.0    1931\n",
      "22.0    1800\n",
      "32.0    1069\n",
      "42.0     793\n",
      "37.0     634\n",
      "17.5     139\n",
      "Name: age, dtype: int64\n",
      "\n",
      "\n",
      "The number of unqiue values for yrs_married column is: \n",
      "2.5     2034\n",
      "6.0     1141\n",
      "16.5     818\n",
      "23.0     811\n",
      "9.0      602\n",
      "13.0     590\n",
      "0.5      370\n",
      "Name: yrs_married, dtype: int64\n",
      "\n",
      "\n",
      "The number of unqiue values for children column is: \n",
      "0.0    2414\n",
      "2.0    1481\n",
      "1.0    1159\n",
      "3.0     781\n",
      "4.0     328\n",
      "5.5     203\n",
      "Name: children, dtype: int64\n",
      "\n",
      "\n",
      "The number of unqiue values for religious column is: \n",
      "3.0    2422\n",
      "2.0    2267\n",
      "1.0    1021\n",
      "4.0     656\n",
      "Name: religious, dtype: int64\n",
      "\n",
      "\n",
      "The number of unqiue values for educ column is: \n",
      "14.0    2277\n",
      "12.0    2084\n",
      "16.0    1117\n",
      "17.0     510\n",
      "20.0     330\n",
      "9.0       48\n",
      "Name: educ, dtype: int64\n",
      "\n",
      "\n",
      "The number of unqiue values for occupation column is: \n",
      "3.0    2783\n",
      "4.0    1834\n",
      "2.0     859\n",
      "5.0     740\n",
      "6.0     109\n",
      "1.0      41\n",
      "Name: occupation, dtype: int64\n",
      "\n",
      "\n",
      "The number of unqiue values for occupation_husb column is: \n",
      "4.0    2030\n",
      "5.0    1779\n",
      "2.0    1308\n",
      "6.0     530\n",
      "3.0     490\n",
      "1.0     229\n",
      "Name: occupation_husb, dtype: int64\n",
      "\n",
      "\n",
      "The number of unqiue values for affairs column is: \n",
      "0.000000     4313\n",
      "1.400000      118\n",
      "0.583333       86\n",
      "0.400000       72\n",
      "1.333333       72\n",
      "             ... \n",
      "0.622222        1\n",
      "39.199982       1\n",
      "7.111111        1\n",
      "4.923077        1\n",
      "0.339394        1\n",
      "Name: affairs, Length: 77, dtype: int64\n",
      "\n",
      "\n",
      "The number of unqiue values for affair column is: \n",
      "0    4313\n",
      "1    2053\n",
      "Name: affair, dtype: int64\n",
      "\n",
      "\n"
     ]
    }
   ],
   "source": [
    "for i in df.columns:\n",
    "    print(\"The number of unqiue values for {} column is: \".format(i))\n",
    "    print(df[i].value_counts())\n",
    "    print(\"\\n\")"
   ]
  },
  {
   "cell_type": "markdown",
   "metadata": {},
   "source": [
    "Analysis:\n",
    "    \n",
    "1. There are no null values.\n",
    "2. rate_marriage is categorical with 5 rating values.\n",
    "3. religion is categorical with 4 rating values.\n",
    "4. Similarly, variables such as educ, occupation, occupation_husb are also categorical.\n",
    "5. The data is imbalanced since affair column has twice the data for 0 value."
   ]
  },
  {
   "cell_type": "markdown",
   "metadata": {},
   "source": [
    "## DATA EXPLORATION"
   ]
  },
  {
   "cell_type": "code",
   "execution_count": 28,
   "metadata": {},
   "outputs": [
    {
     "data": {
      "text/html": [
       "<div>\n",
       "<style scoped>\n",
       "    .dataframe tbody tr th:only-of-type {\n",
       "        vertical-align: middle;\n",
       "    }\n",
       "\n",
       "    .dataframe tbody tr th {\n",
       "        vertical-align: top;\n",
       "    }\n",
       "\n",
       "    .dataframe thead th {\n",
       "        text-align: right;\n",
       "    }\n",
       "</style>\n",
       "<table border=\"1\" class=\"dataframe\">\n",
       "  <thead>\n",
       "    <tr style=\"text-align: right;\">\n",
       "      <th></th>\n",
       "      <th>rate_marriage</th>\n",
       "      <th>age</th>\n",
       "      <th>yrs_married</th>\n",
       "      <th>children</th>\n",
       "      <th>religious</th>\n",
       "      <th>educ</th>\n",
       "      <th>occupation</th>\n",
       "      <th>occupation_husb</th>\n",
       "      <th>affairs</th>\n",
       "    </tr>\n",
       "    <tr>\n",
       "      <th>affair</th>\n",
       "      <th></th>\n",
       "      <th></th>\n",
       "      <th></th>\n",
       "      <th></th>\n",
       "      <th></th>\n",
       "      <th></th>\n",
       "      <th></th>\n",
       "      <th></th>\n",
       "      <th></th>\n",
       "    </tr>\n",
       "  </thead>\n",
       "  <tbody>\n",
       "    <tr>\n",
       "      <th>0</th>\n",
       "      <td>4.329701</td>\n",
       "      <td>28.390679</td>\n",
       "      <td>7.989335</td>\n",
       "      <td>1.238813</td>\n",
       "      <td>2.504521</td>\n",
       "      <td>14.322977</td>\n",
       "      <td>3.405286</td>\n",
       "      <td>3.833758</td>\n",
       "      <td>0.000000</td>\n",
       "    </tr>\n",
       "    <tr>\n",
       "      <th>1</th>\n",
       "      <td>3.647345</td>\n",
       "      <td>30.537019</td>\n",
       "      <td>11.152460</td>\n",
       "      <td>1.728933</td>\n",
       "      <td>2.261568</td>\n",
       "      <td>13.972236</td>\n",
       "      <td>3.463712</td>\n",
       "      <td>3.884559</td>\n",
       "      <td>2.187243</td>\n",
       "    </tr>\n",
       "  </tbody>\n",
       "</table>\n",
       "</div>"
      ],
      "text/plain": [
       "        rate_marriage        age  yrs_married  children  religious       educ  \\\n",
       "affair                                                                          \n",
       "0            4.329701  28.390679     7.989335  1.238813   2.504521  14.322977   \n",
       "1            3.647345  30.537019    11.152460  1.728933   2.261568  13.972236   \n",
       "\n",
       "        occupation  occupation_husb   affairs  \n",
       "affair                                         \n",
       "0         3.405286         3.833758  0.000000  \n",
       "1         3.463712         3.884559  2.187243  "
      ]
     },
     "execution_count": 28,
     "metadata": {},
     "output_type": "execute_result"
    }
   ],
   "source": [
    "# Average of all features group by affair\n",
    "\n",
    "df.groupby('affair').mean()"
   ]
  },
  {
   "cell_type": "markdown",
   "metadata": {},
   "source": [
    "On average, women with affair(s) rate their marriage lower. They are also married for a longer time."
   ]
  },
  {
   "cell_type": "code",
   "execution_count": 29,
   "metadata": {},
   "outputs": [
    {
     "data": {
      "text/html": [
       "<div>\n",
       "<style scoped>\n",
       "    .dataframe tbody tr th:only-of-type {\n",
       "        vertical-align: middle;\n",
       "    }\n",
       "\n",
       "    .dataframe tbody tr th {\n",
       "        vertical-align: top;\n",
       "    }\n",
       "\n",
       "    .dataframe thead th {\n",
       "        text-align: right;\n",
       "    }\n",
       "</style>\n",
       "<table border=\"1\" class=\"dataframe\">\n",
       "  <thead>\n",
       "    <tr style=\"text-align: right;\">\n",
       "      <th></th>\n",
       "      <th>age</th>\n",
       "      <th>yrs_married</th>\n",
       "      <th>children</th>\n",
       "      <th>religious</th>\n",
       "      <th>educ</th>\n",
       "      <th>occupation</th>\n",
       "      <th>occupation_husb</th>\n",
       "      <th>affairs</th>\n",
       "      <th>affair</th>\n",
       "    </tr>\n",
       "    <tr>\n",
       "      <th>rate_marriage</th>\n",
       "      <th></th>\n",
       "      <th></th>\n",
       "      <th></th>\n",
       "      <th></th>\n",
       "      <th></th>\n",
       "      <th></th>\n",
       "      <th></th>\n",
       "      <th></th>\n",
       "      <th></th>\n",
       "    </tr>\n",
       "  </thead>\n",
       "  <tbody>\n",
       "    <tr>\n",
       "      <th>1.0</th>\n",
       "      <td>33.823232</td>\n",
       "      <td>13.914141</td>\n",
       "      <td>2.308081</td>\n",
       "      <td>2.343434</td>\n",
       "      <td>13.848485</td>\n",
       "      <td>3.232323</td>\n",
       "      <td>3.838384</td>\n",
       "      <td>1.201671</td>\n",
       "      <td>0.747475</td>\n",
       "    </tr>\n",
       "    <tr>\n",
       "      <th>2.0</th>\n",
       "      <td>30.471264</td>\n",
       "      <td>10.727011</td>\n",
       "      <td>1.735632</td>\n",
       "      <td>2.330460</td>\n",
       "      <td>13.864943</td>\n",
       "      <td>3.327586</td>\n",
       "      <td>3.764368</td>\n",
       "      <td>1.615745</td>\n",
       "      <td>0.635057</td>\n",
       "    </tr>\n",
       "    <tr>\n",
       "      <th>3.0</th>\n",
       "      <td>30.008056</td>\n",
       "      <td>10.239174</td>\n",
       "      <td>1.638469</td>\n",
       "      <td>2.308157</td>\n",
       "      <td>14.001007</td>\n",
       "      <td>3.402820</td>\n",
       "      <td>3.798590</td>\n",
       "      <td>1.371281</td>\n",
       "      <td>0.550856</td>\n",
       "    </tr>\n",
       "    <tr>\n",
       "      <th>4.0</th>\n",
       "      <td>28.856601</td>\n",
       "      <td>8.816905</td>\n",
       "      <td>1.369536</td>\n",
       "      <td>2.400981</td>\n",
       "      <td>14.144514</td>\n",
       "      <td>3.420161</td>\n",
       "      <td>3.835861</td>\n",
       "      <td>0.674837</td>\n",
       "      <td>0.322926</td>\n",
       "    </tr>\n",
       "    <tr>\n",
       "      <th>5.0</th>\n",
       "      <td>28.574702</td>\n",
       "      <td>8.311662</td>\n",
       "      <td>1.252794</td>\n",
       "      <td>2.506334</td>\n",
       "      <td>14.399776</td>\n",
       "      <td>3.454918</td>\n",
       "      <td>3.892697</td>\n",
       "      <td>0.348174</td>\n",
       "      <td>0.181446</td>\n",
       "    </tr>\n",
       "  </tbody>\n",
       "</table>\n",
       "</div>"
      ],
      "text/plain": [
       "                     age  yrs_married  children  religious       educ  \\\n",
       "rate_marriage                                                           \n",
       "1.0            33.823232    13.914141  2.308081   2.343434  13.848485   \n",
       "2.0            30.471264    10.727011  1.735632   2.330460  13.864943   \n",
       "3.0            30.008056    10.239174  1.638469   2.308157  14.001007   \n",
       "4.0            28.856601     8.816905  1.369536   2.400981  14.144514   \n",
       "5.0            28.574702     8.311662  1.252794   2.506334  14.399776   \n",
       "\n",
       "               occupation  occupation_husb   affairs    affair  \n",
       "rate_marriage                                                   \n",
       "1.0              3.232323         3.838384  1.201671  0.747475  \n",
       "2.0              3.327586         3.764368  1.615745  0.635057  \n",
       "3.0              3.402820         3.798590  1.371281  0.550856  \n",
       "4.0              3.420161         3.835861  0.674837  0.322926  \n",
       "5.0              3.454918         3.892697  0.348174  0.181446  "
      ]
     },
     "execution_count": 29,
     "metadata": {},
     "output_type": "execute_result"
    }
   ],
   "source": [
    "df.groupby('rate_marriage').mean()"
   ]
  },
  {
   "cell_type": "markdown",
   "metadata": {},
   "source": [
    "A clear trend is shown, women who are married (and also older) for longer rate their marriage lower."
   ]
  },
  {
   "cell_type": "code",
   "execution_count": 30,
   "metadata": {},
   "outputs": [
    {
     "data": {
      "text/html": [
       "<div>\n",
       "<style scoped>\n",
       "    .dataframe tbody tr th:only-of-type {\n",
       "        vertical-align: middle;\n",
       "    }\n",
       "\n",
       "    .dataframe tbody tr th {\n",
       "        vertical-align: top;\n",
       "    }\n",
       "\n",
       "    .dataframe thead th {\n",
       "        text-align: right;\n",
       "    }\n",
       "</style>\n",
       "<table border=\"1\" class=\"dataframe\">\n",
       "  <thead>\n",
       "    <tr style=\"text-align: right;\">\n",
       "      <th></th>\n",
       "      <th>rate_marriage</th>\n",
       "      <th>age</th>\n",
       "      <th>yrs_married</th>\n",
       "      <th>children</th>\n",
       "      <th>educ</th>\n",
       "      <th>occupation</th>\n",
       "      <th>occupation_husb</th>\n",
       "      <th>affairs</th>\n",
       "      <th>affair</th>\n",
       "    </tr>\n",
       "    <tr>\n",
       "      <th>religious</th>\n",
       "      <th></th>\n",
       "      <th></th>\n",
       "      <th></th>\n",
       "      <th></th>\n",
       "      <th></th>\n",
       "      <th></th>\n",
       "      <th></th>\n",
       "      <th></th>\n",
       "      <th></th>\n",
       "    </tr>\n",
       "  </thead>\n",
       "  <tbody>\n",
       "    <tr>\n",
       "      <th>1.0</th>\n",
       "      <td>4.077375</td>\n",
       "      <td>27.704212</td>\n",
       "      <td>7.439765</td>\n",
       "      <td>1.041626</td>\n",
       "      <td>14.441724</td>\n",
       "      <td>3.431929</td>\n",
       "      <td>3.902057</td>\n",
       "      <td>1.246989</td>\n",
       "      <td>0.399608</td>\n",
       "    </tr>\n",
       "    <tr>\n",
       "      <th>2.0</th>\n",
       "      <td>4.021173</td>\n",
       "      <td>28.618218</td>\n",
       "      <td>8.650640</td>\n",
       "      <td>1.334804</td>\n",
       "      <td>13.985002</td>\n",
       "      <td>3.369210</td>\n",
       "      <td>3.820026</td>\n",
       "      <td>0.767282</td>\n",
       "      <td>0.361270</td>\n",
       "    </tr>\n",
       "    <tr>\n",
       "      <th>3.0</th>\n",
       "      <td>4.141206</td>\n",
       "      <td>29.536953</td>\n",
       "      <td>9.436416</td>\n",
       "      <td>1.492981</td>\n",
       "      <td>14.175475</td>\n",
       "      <td>3.439306</td>\n",
       "      <td>3.828241</td>\n",
       "      <td>0.545039</td>\n",
       "      <td>0.291908</td>\n",
       "    </tr>\n",
       "    <tr>\n",
       "      <th>4.0</th>\n",
       "      <td>4.349085</td>\n",
       "      <td>31.157774</td>\n",
       "      <td>11.115854</td>\n",
       "      <td>1.809451</td>\n",
       "      <td>14.753049</td>\n",
       "      <td>3.545732</td>\n",
       "      <td>3.954268</td>\n",
       "      <td>0.240431</td>\n",
       "      <td>0.181402</td>\n",
       "    </tr>\n",
       "  </tbody>\n",
       "</table>\n",
       "</div>"
      ],
      "text/plain": [
       "           rate_marriage        age  yrs_married  children       educ  \\\n",
       "religious                                                               \n",
       "1.0             4.077375  27.704212     7.439765  1.041626  14.441724   \n",
       "2.0             4.021173  28.618218     8.650640  1.334804  13.985002   \n",
       "3.0             4.141206  29.536953     9.436416  1.492981  14.175475   \n",
       "4.0             4.349085  31.157774    11.115854  1.809451  14.753049   \n",
       "\n",
       "           occupation  occupation_husb   affairs    affair  \n",
       "religious                                                   \n",
       "1.0          3.431929         3.902057  1.246989  0.399608  \n",
       "2.0          3.369210         3.820026  0.767282  0.361270  \n",
       "3.0          3.439306         3.828241  0.545039  0.291908  \n",
       "4.0          3.545732         3.954268  0.240431  0.181402  "
      ]
     },
     "execution_count": 30,
     "metadata": {},
     "output_type": "execute_result"
    }
   ],
   "source": [
    "df.groupby('religious').mean()"
   ]
  },
  {
   "cell_type": "markdown",
   "metadata": {},
   "source": [
    "Women who are longer married and having more children seem to be more religious. However, surprisingly, this does not show a huge impact on marriage rating although more religious women tend to rate their marriages higher."
   ]
  },
  {
   "cell_type": "code",
   "execution_count": 33,
   "metadata": {},
   "outputs": [
    {
     "data": {
      "text/html": [
       "<div>\n",
       "<style scoped>\n",
       "    .dataframe tbody tr th:only-of-type {\n",
       "        vertical-align: middle;\n",
       "    }\n",
       "\n",
       "    .dataframe tbody tr th {\n",
       "        vertical-align: top;\n",
       "    }\n",
       "\n",
       "    .dataframe thead th {\n",
       "        text-align: right;\n",
       "    }\n",
       "</style>\n",
       "<table border=\"1\" class=\"dataframe\">\n",
       "  <thead>\n",
       "    <tr style=\"text-align: right;\">\n",
       "      <th></th>\n",
       "      <th>rate_marriage</th>\n",
       "      <th>age</th>\n",
       "      <th>yrs_married</th>\n",
       "      <th>children</th>\n",
       "      <th>religious</th>\n",
       "      <th>educ</th>\n",
       "      <th>occupation</th>\n",
       "      <th>occupation_husb</th>\n",
       "      <th>affairs</th>\n",
       "    </tr>\n",
       "    <tr>\n",
       "      <th>affair</th>\n",
       "      <th></th>\n",
       "      <th></th>\n",
       "      <th></th>\n",
       "      <th></th>\n",
       "      <th></th>\n",
       "      <th></th>\n",
       "      <th></th>\n",
       "      <th></th>\n",
       "      <th></th>\n",
       "    </tr>\n",
       "  </thead>\n",
       "  <tbody>\n",
       "    <tr>\n",
       "      <th>0</th>\n",
       "      <td>4.329701</td>\n",
       "      <td>28.390679</td>\n",
       "      <td>7.989335</td>\n",
       "      <td>1.238813</td>\n",
       "      <td>2.504521</td>\n",
       "      <td>14.322977</td>\n",
       "      <td>3.405286</td>\n",
       "      <td>3.833758</td>\n",
       "      <td>0.000000</td>\n",
       "    </tr>\n",
       "    <tr>\n",
       "      <th>1</th>\n",
       "      <td>3.647345</td>\n",
       "      <td>30.537019</td>\n",
       "      <td>11.152460</td>\n",
       "      <td>1.728933</td>\n",
       "      <td>2.261568</td>\n",
       "      <td>13.972236</td>\n",
       "      <td>3.463712</td>\n",
       "      <td>3.884559</td>\n",
       "      <td>2.187243</td>\n",
       "    </tr>\n",
       "  </tbody>\n",
       "</table>\n",
       "</div>"
      ],
      "text/plain": [
       "        rate_marriage        age  yrs_married  children  religious       educ  \\\n",
       "affair                                                                          \n",
       "0            4.329701  28.390679     7.989335  1.238813   2.504521  14.322977   \n",
       "1            3.647345  30.537019    11.152460  1.728933   2.261568  13.972236   \n",
       "\n",
       "        occupation  occupation_husb   affairs  \n",
       "affair                                         \n",
       "0         3.405286         3.833758  0.000000  \n",
       "1         3.463712         3.884559  2.187243  "
      ]
     },
     "execution_count": 33,
     "metadata": {},
     "output_type": "execute_result"
    }
   ],
   "source": [
    "df.groupby('affair').mean()"
   ]
  },
  {
   "cell_type": "markdown",
   "metadata": {},
   "source": [
    "Key takeaways from the above stats:\n",
    "    \n",
    "Women with low marriage_rate tend to spend more time on affairs. These women are also older and married for longer time (comparatively)."
   ]
  },
  {
   "cell_type": "code",
   "execution_count": 35,
   "metadata": {},
   "outputs": [
    {
     "data": {
      "text/html": [
       "<div>\n",
       "<style scoped>\n",
       "    .dataframe tbody tr th:only-of-type {\n",
       "        vertical-align: middle;\n",
       "    }\n",
       "\n",
       "    .dataframe tbody tr th {\n",
       "        vertical-align: top;\n",
       "    }\n",
       "\n",
       "    .dataframe thead th {\n",
       "        text-align: right;\n",
       "    }\n",
       "</style>\n",
       "<table border=\"1\" class=\"dataframe\">\n",
       "  <thead>\n",
       "    <tr style=\"text-align: right;\">\n",
       "      <th></th>\n",
       "      <th>rate_marriage</th>\n",
       "      <th>age</th>\n",
       "      <th>yrs_married</th>\n",
       "      <th>children</th>\n",
       "      <th>religious</th>\n",
       "      <th>educ</th>\n",
       "      <th>occupation</th>\n",
       "      <th>occupation_husb</th>\n",
       "      <th>affairs</th>\n",
       "      <th>affair</th>\n",
       "    </tr>\n",
       "  </thead>\n",
       "  <tbody>\n",
       "    <tr>\n",
       "      <th>0</th>\n",
       "      <td>3.0</td>\n",
       "      <td>32.0</td>\n",
       "      <td>9.0</td>\n",
       "      <td>3.0</td>\n",
       "      <td>3.0</td>\n",
       "      <td>17.0</td>\n",
       "      <td>2.0</td>\n",
       "      <td>5.0</td>\n",
       "      <td>0.111111</td>\n",
       "      <td>1</td>\n",
       "    </tr>\n",
       "    <tr>\n",
       "      <th>1</th>\n",
       "      <td>3.0</td>\n",
       "      <td>27.0</td>\n",
       "      <td>13.0</td>\n",
       "      <td>3.0</td>\n",
       "      <td>1.0</td>\n",
       "      <td>14.0</td>\n",
       "      <td>3.0</td>\n",
       "      <td>4.0</td>\n",
       "      <td>3.230769</td>\n",
       "      <td>1</td>\n",
       "    </tr>\n",
       "    <tr>\n",
       "      <th>2</th>\n",
       "      <td>4.0</td>\n",
       "      <td>22.0</td>\n",
       "      <td>2.5</td>\n",
       "      <td>0.0</td>\n",
       "      <td>1.0</td>\n",
       "      <td>16.0</td>\n",
       "      <td>3.0</td>\n",
       "      <td>5.0</td>\n",
       "      <td>1.400000</td>\n",
       "      <td>1</td>\n",
       "    </tr>\n",
       "    <tr>\n",
       "      <th>3</th>\n",
       "      <td>4.0</td>\n",
       "      <td>37.0</td>\n",
       "      <td>16.5</td>\n",
       "      <td>4.0</td>\n",
       "      <td>3.0</td>\n",
       "      <td>16.0</td>\n",
       "      <td>5.0</td>\n",
       "      <td>5.0</td>\n",
       "      <td>0.727273</td>\n",
       "      <td>1</td>\n",
       "    </tr>\n",
       "    <tr>\n",
       "      <th>4</th>\n",
       "      <td>5.0</td>\n",
       "      <td>27.0</td>\n",
       "      <td>9.0</td>\n",
       "      <td>1.0</td>\n",
       "      <td>1.0</td>\n",
       "      <td>14.0</td>\n",
       "      <td>3.0</td>\n",
       "      <td>4.0</td>\n",
       "      <td>4.666666</td>\n",
       "      <td>1</td>\n",
       "    </tr>\n",
       "  </tbody>\n",
       "</table>\n",
       "</div>"
      ],
      "text/plain": [
       "   rate_marriage   age  yrs_married  children  religious  educ  occupation  \\\n",
       "0            3.0  32.0          9.0       3.0        3.0  17.0         2.0   \n",
       "1            3.0  27.0         13.0       3.0        1.0  14.0         3.0   \n",
       "2            4.0  22.0          2.5       0.0        1.0  16.0         3.0   \n",
       "3            4.0  37.0         16.5       4.0        3.0  16.0         5.0   \n",
       "4            5.0  27.0          9.0       1.0        1.0  14.0         3.0   \n",
       "\n",
       "   occupation_husb   affairs  affair  \n",
       "0              5.0  0.111111       1  \n",
       "1              4.0  3.230769       1  \n",
       "2              5.0  1.400000       1  \n",
       "3              5.0  0.727273       1  \n",
       "4              4.0  4.666666       1  "
      ]
     },
     "execution_count": 35,
     "metadata": {},
     "output_type": "execute_result"
    }
   ],
   "source": [
    "df.head()"
   ]
  },
  {
   "cell_type": "code",
   "execution_count": 38,
   "metadata": {},
   "outputs": [
    {
     "data": {
      "text/plain": [
       "Text(0.5, 1.0, 'Age vs affair')"
      ]
     },
     "execution_count": 38,
     "metadata": {},
     "output_type": "execute_result"
    },
    {
     "data": {
      "image/png": "[encoded data removed]",
      "text/plain": [
       "<Figure size 432x288 with 1 Axes>"
      ]
     },
     "metadata": {},
     "output_type": "display_data"
    }
   ],
   "source": [
    "sns.set_style(\"whitegrid\")\n",
    "\n",
    "sns.barplot(x=\"affair\", y=\"age\", data=df)\n",
    "plt.title(\"Age vs affair\")"
   ]
  },
  {
   "cell_type": "code",
   "execution_count": 51,
   "metadata": {},
   "outputs": [
    {
     "data": {
      "image/png": "[encoded data removed]",
      "text/plain": [
       "<Figure size 864x1080 with 5 Axes>"
      ]
     },
     "metadata": {},
     "output_type": "display_data"
    }
   ],
   "source": [
    "sns.set(rc={'figure.figsize':(12, 15)})\n",
    "\n",
    "plt.subplot(3,3,1)\n",
    "sns.distplot(df[\"occupation\"], kde = False)\n",
    "plt.title(\"Frequency distribution of occupation feature\")\n",
    "\n",
    "plt.subplot(3,3,3)\n",
    "sns.distplot(df[\"occupation_husb\"], kde = False)\n",
    "plt.title(\"Frequency distribution of husband's occupation feature\")\n",
    "\n",
    "plt.subplot(3,3,4)\n",
    "sns.distplot(df[\"educ\"], kde = False)\n",
    "plt.title(\"Frequency distribution of education feature\")\n",
    "\n",
    "plt.subplot(3,3,6)\n",
    "sns.distplot(df[\"religious\"], kde = False)\n",
    "plt.title(\"Frequency distribution of religious feature\")\n",
    "\n",
    "plt.subplot(3,3,7)\n",
    "sns.distplot(df[\"rate_marriage\"], kde = False)\n",
    "plt.title(\"Frequency distribution of marriage rating feature\")\n",
    "\n",
    "plt.tight_layout()"
   ]
  },
  {
   "cell_type": "code",
   "execution_count": 55,
   "metadata": {},
   "outputs": [
    {
     "data": {
      "text/plain": [
       "Text(0, 0.5, 'Frequency')"
      ]
     },
     "execution_count": 55,
     "metadata": {},
     "output_type": "execute_result"
    },
    {
     "data": {
      "image/png": "[encoded data removed]",
      "text/plain": [
       "<Figure size 720x360 with 1 Axes>"
      ]
     },
     "metadata": {},
     "output_type": "display_data"
    }
   ],
   "source": [
    "# barplot of marriage rating grouped by affair (True or False)\n",
    "\n",
    "sns.set(rc={'figure.figsize':(10, 5)})\n",
    "pd.crosstab(df.rate_marriage, df.affair.astype(bool)).plot(kind='bar')\n",
    "plt.title('Marriage Rating Distribution by Affair Status')\n",
    "plt.xlabel('Marriage Rating')\n",
    "plt.ylabel('Frequency')"
   ]
  },
  {
   "cell_type": "code",
   "execution_count": 56,
   "metadata": {},
   "outputs": [
    {
     "data": {
      "text/plain": [
       "Text(0, 0.5, 'Percentage')"
      ]
     },
     "execution_count": 56,
     "metadata": {},
     "output_type": "execute_result"
    },
    {
     "data": {
      "image/png": "[encoded data removed]",
      "text/plain": [
       "<Figure size 720x360 with 1 Axes>"
      ]
     },
     "metadata": {},
     "output_type": "display_data"
    }
   ],
   "source": [
    "# Let's use a stacked barplot to look at the percentage of women having affairs by number of years of marriage.\n",
    "\n",
    "affair_yrs_married = pd.crosstab(df.yrs_married, df.affair.astype(bool))\n",
    "affair_yrs_married.div(affair_yrs_married.sum(1).astype(float), axis=0).plot(kind='bar', stacked=True)\n",
    "plt.title('Affair Percentage by Years Married')\n",
    "plt.xlabel('Years Married')\n",
    "plt.ylabel('Percentage')"
   ]
  },
  {
   "cell_type": "code",
   "execution_count": 60,
   "metadata": {},
   "outputs": [
    {
     "data": {
      "text/plain": [
       "<matplotlib.axes._subplots.AxesSubplot at 0x208303cada0>"
      ]
     },
     "execution_count": 60,
     "metadata": {},
     "output_type": "execute_result"
    },
    {
     "data": {
      "image/png": "[encoded data removed]",
      "text/plain": [
       "<Figure size 720x360 with 1 Axes>"
      ]
     },
     "metadata": {},
     "output_type": "display_data"
    }
   ],
   "source": [
    "sns.violinplot(x = \"occupation\", y = \"affairs\", data = df)"
   ]
  },
  {
   "cell_type": "code",
   "execution_count": 65,
   "metadata": {},
   "outputs": [
    {
     "data": {
      "text/plain": [
       "<matplotlib.axes._subplots.AxesSubplot at 0x20831c783c8>"
      ]
     },
     "execution_count": 65,
     "metadata": {},
     "output_type": "execute_result"
    },
    {
     "data": {
      "image/png": "[encoded data removed]",
      "text/plain": [
       "<Figure size 720x360 with 1 Axes>"
      ]
     },
     "metadata": {},
     "output_type": "display_data"
    }
   ],
   "source": [
    "sns.boxplot(x = \"educ\", y = \"affairs\", data = df)"
   ]
  },
  {
   "cell_type": "code",
   "execution_count": 66,
   "metadata": {},
   "outputs": [
    {
     "data": {
      "text/plain": [
       "<matplotlib.axes._subplots.AxesSubplot at 0x20831d84550>"
      ]
     },
     "execution_count": 66,
     "metadata": {},
     "output_type": "execute_result"
    },
    {
     "data": {
      "image/png": "[encoded data removed]",
      "text/plain": [
       "<Figure size 720x360 with 2 Axes>"
      ]
     },
     "metadata": {},
     "output_type": "display_data"
    }
   ],
   "source": [
    "sns.heatmap(df.corr(), annot = True)"
   ]
  },
  {
   "cell_type": "markdown",
   "metadata": {},
   "source": [
    "Analysis:\n",
    "\n",
    "Years married and age have high positive correlation which is expected.\n",
    "\n",
    "Years married and children have positive correlation since longer marriage are expected to have more children.\n",
    "\n",
    "Same with age and children."
   ]
  },
  {
   "cell_type": "markdown",
   "metadata": {},
   "source": [
    "## DATA PREPERATION"
   ]
  },
  {
   "cell_type": "code",
   "execution_count": 71,
   "metadata": {},
   "outputs": [
    {
     "data": {
      "text/plain": [
       "Index(['Intercept', 'C(rate_marriage)[T.2.0]', 'C(rate_marriage)[T.3.0]',\n",
       "       'C(rate_marriage)[T.4.0]', 'C(rate_marriage)[T.5.0]',\n",
       "       'C(religious)[T.2.0]', 'C(religious)[T.3.0]', 'C(religious)[T.4.0]',\n",
       "       'C(educ)[T.12.0]', 'C(educ)[T.14.0]', 'C(educ)[T.16.0]',\n",
       "       'C(educ)[T.17.0]', 'C(educ)[T.20.0]', 'C(occupation)[T.2.0]',\n",
       "       'C(occupation)[T.3.0]', 'C(occupation)[T.4.0]', 'C(occupation)[T.5.0]',\n",
       "       'C(occupation)[T.6.0]', 'C(occupation_husb)[T.2.0]',\n",
       "       'C(occupation_husb)[T.3.0]', 'C(occupation_husb)[T.4.0]',\n",
       "       'C(occupation_husb)[T.5.0]', 'C(occupation_husb)[T.6.0]', 'age',\n",
       "       'yrs_married', 'children'],\n",
       "      dtype='object')"
      ]
     },
     "execution_count": 71,
     "metadata": {},
     "output_type": "execute_result"
    }
   ],
   "source": [
    "# create dataframes with an intercept column and dummy variables for occupation, edu, religion, rate_marriage\n",
    "# and occupation_husb since they all are categorical\n",
    "\n",
    "# We are dropping affairs column since it will leak data.\n",
    "\n",
    "y, X = dmatrices('affair ~ C(rate_marriage) + age + yrs_married + children + \\\n",
    "                  C(religious) + C(educ) + C(occupation) + C(occupation_husb)',\n",
    "                  df, return_type=\"dataframe\")\n",
    "X.columns"
   ]
  },
  {
   "cell_type": "code",
   "execution_count": 72,
   "metadata": {},
   "outputs": [],
   "source": [
    "# fix column names of X\n",
    "\n",
    "X = X.rename(columns = {'C(rate_marriage)[T.2.0]' : 'rate_marr_2',\n",
    "                        'C(rate_marriage)[T.3.0]' : 'rate_marr_3',\n",
    "                        'C(rate_marriage)[T.4.0]' : 'rate_marr_4',\n",
    "                        'C(rate_marriage)[T.5.0]' : 'rate_marr_5',\n",
    "                        'C(religious)[T.2.0]' : 'religious_2',\n",
    "                        'C(religious)[T.3.0]' : 'religious_3',\n",
    "                        'C(religious)[T.4.0]' : 'religious_4',\n",
    "                        'C(educ)[T.12.0]' : 'educ_12',\n",
    "                        'C(educ)[T.14.0]' : 'educ_14',\n",
    "                        'C(educ)[T.16.0]' : 'educ_16',\n",
    "                        'C(educ)[T.17.0]' : 'educ_17',\n",
    "                        'C(educ)[T.20.0]' : 'educ_20',\n",
    "                        'C(occupation)[T.2.0]':'occ_2',\n",
    "                        'C(occupation)[T.3.0]':'occ_3',\n",
    "                        'C(occupation)[T.4.0]':'occ_4',\n",
    "                        'C(occupation)[T.5.0]':'occ_5',\n",
    "                        'C(occupation)[T.6.0]':'occ_6',\n",
    "                        'C(occupation_husb)[T.2.0]':'occ_husb_2',\n",
    "                        'C(occupation_husb)[T.3.0]':'occ_husb_3',\n",
    "                        'C(occupation_husb)[T.4.0]':'occ_husb_4',\n",
    "                        'C(occupation_husb)[T.5.0]':'occ_husb_5',\n",
    "                        'C(occupation_husb)[T.6.0]':'occ_husb_6'})"
   ]
  },
  {
   "cell_type": "code",
   "execution_count": 73,
   "metadata": {},
   "outputs": [
    {
     "data": {
      "text/html": [
       "<div>\n",
       "<style scoped>\n",
       "    .dataframe tbody tr th:only-of-type {\n",
       "        vertical-align: middle;\n",
       "    }\n",
       "\n",
       "    .dataframe tbody tr th {\n",
       "        vertical-align: top;\n",
       "    }\n",
       "\n",
       "    .dataframe thead th {\n",
       "        text-align: right;\n",
       "    }\n",
       "</style>\n",
       "<table border=\"1\" class=\"dataframe\">\n",
       "  <thead>\n",
       "    <tr style=\"text-align: right;\">\n",
       "      <th></th>\n",
       "      <th>Intercept</th>\n",
       "      <th>rate_marr_2</th>\n",
       "      <th>rate_marr_3</th>\n",
       "      <th>rate_marr_4</th>\n",
       "      <th>rate_marr_5</th>\n",
       "      <th>religious_2</th>\n",
       "      <th>religious_3</th>\n",
       "      <th>religious_4</th>\n",
       "      <th>educ_12</th>\n",
       "      <th>educ_14</th>\n",
       "      <th>...</th>\n",
       "      <th>occ_5</th>\n",
       "      <th>occ_6</th>\n",
       "      <th>occ_husb_2</th>\n",
       "      <th>occ_husb_3</th>\n",
       "      <th>occ_husb_4</th>\n",
       "      <th>occ_husb_5</th>\n",
       "      <th>occ_husb_6</th>\n",
       "      <th>age</th>\n",
       "      <th>yrs_married</th>\n",
       "      <th>children</th>\n",
       "    </tr>\n",
       "  </thead>\n",
       "  <tbody>\n",
       "    <tr>\n",
       "      <th>0</th>\n",
       "      <td>1.0</td>\n",
       "      <td>0.0</td>\n",
       "      <td>1.0</td>\n",
       "      <td>0.0</td>\n",
       "      <td>0.0</td>\n",
       "      <td>0.0</td>\n",
       "      <td>1.0</td>\n",
       "      <td>0.0</td>\n",
       "      <td>0.0</td>\n",
       "      <td>0.0</td>\n",
       "      <td>...</td>\n",
       "      <td>0.0</td>\n",
       "      <td>0.0</td>\n",
       "      <td>0.0</td>\n",
       "      <td>0.0</td>\n",
       "      <td>0.0</td>\n",
       "      <td>1.0</td>\n",
       "      <td>0.0</td>\n",
       "      <td>32.0</td>\n",
       "      <td>9.0</td>\n",
       "      <td>3.0</td>\n",
       "    </tr>\n",
       "    <tr>\n",
       "      <th>1</th>\n",
       "      <td>1.0</td>\n",
       "      <td>0.0</td>\n",
       "      <td>1.0</td>\n",
       "      <td>0.0</td>\n",
       "      <td>0.0</td>\n",
       "      <td>0.0</td>\n",
       "      <td>0.0</td>\n",
       "      <td>0.0</td>\n",
       "      <td>0.0</td>\n",
       "      <td>1.0</td>\n",
       "      <td>...</td>\n",
       "      <td>0.0</td>\n",
       "      <td>0.0</td>\n",
       "      <td>0.0</td>\n",
       "      <td>0.0</td>\n",
       "      <td>1.0</td>\n",
       "      <td>0.0</td>\n",
       "      <td>0.0</td>\n",
       "      <td>27.0</td>\n",
       "      <td>13.0</td>\n",
       "      <td>3.0</td>\n",
       "    </tr>\n",
       "    <tr>\n",
       "      <th>2</th>\n",
       "      <td>1.0</td>\n",
       "      <td>0.0</td>\n",
       "      <td>0.0</td>\n",
       "      <td>1.0</td>\n",
       "      <td>0.0</td>\n",
       "      <td>0.0</td>\n",
       "      <td>0.0</td>\n",
       "      <td>0.0</td>\n",
       "      <td>0.0</td>\n",
       "      <td>0.0</td>\n",
       "      <td>...</td>\n",
       "      <td>0.0</td>\n",
       "      <td>0.0</td>\n",
       "      <td>0.0</td>\n",
       "      <td>0.0</td>\n",
       "      <td>0.0</td>\n",
       "      <td>1.0</td>\n",
       "      <td>0.0</td>\n",
       "      <td>22.0</td>\n",
       "      <td>2.5</td>\n",
       "      <td>0.0</td>\n",
       "    </tr>\n",
       "    <tr>\n",
       "      <th>3</th>\n",
       "      <td>1.0</td>\n",
       "      <td>0.0</td>\n",
       "      <td>0.0</td>\n",
       "      <td>1.0</td>\n",
       "      <td>0.0</td>\n",
       "      <td>0.0</td>\n",
       "      <td>1.0</td>\n",
       "      <td>0.0</td>\n",
       "      <td>0.0</td>\n",
       "      <td>0.0</td>\n",
       "      <td>...</td>\n",
       "      <td>1.0</td>\n",
       "      <td>0.0</td>\n",
       "      <td>0.0</td>\n",
       "      <td>0.0</td>\n",
       "      <td>0.0</td>\n",
       "      <td>1.0</td>\n",
       "      <td>0.0</td>\n",
       "      <td>37.0</td>\n",
       "      <td>16.5</td>\n",
       "      <td>4.0</td>\n",
       "    </tr>\n",
       "    <tr>\n",
       "      <th>4</th>\n",
       "      <td>1.0</td>\n",
       "      <td>0.0</td>\n",
       "      <td>0.0</td>\n",
       "      <td>0.0</td>\n",
       "      <td>1.0</td>\n",
       "      <td>0.0</td>\n",
       "      <td>0.0</td>\n",
       "      <td>0.0</td>\n",
       "      <td>0.0</td>\n",
       "      <td>1.0</td>\n",
       "      <td>...</td>\n",
       "      <td>0.0</td>\n",
       "      <td>0.0</td>\n",
       "      <td>0.0</td>\n",
       "      <td>0.0</td>\n",
       "      <td>1.0</td>\n",
       "      <td>0.0</td>\n",
       "      <td>0.0</td>\n",
       "      <td>27.0</td>\n",
       "      <td>9.0</td>\n",
       "      <td>1.0</td>\n",
       "    </tr>\n",
       "  </tbody>\n",
       "</table>\n",
       "<p>5 rows × 26 columns</p>\n",
       "</div>"
      ],
      "text/plain": [
       "   Intercept  rate_marr_2  rate_marr_3  rate_marr_4  rate_marr_5  religious_2  \\\n",
       "0        1.0          0.0          1.0          0.0          0.0          0.0   \n",
       "1        1.0          0.0          1.0          0.0          0.0          0.0   \n",
       "2        1.0          0.0          0.0          1.0          0.0          0.0   \n",
       "3        1.0          0.0          0.0          1.0          0.0          0.0   \n",
       "4        1.0          0.0          0.0          0.0          1.0          0.0   \n",
       "\n",
       "   religious_3  religious_4  educ_12  educ_14  ...  occ_5  occ_6  occ_husb_2  \\\n",
       "0          1.0          0.0      0.0      0.0  ...    0.0    0.0         0.0   \n",
       "1          0.0          0.0      0.0      1.0  ...    0.0    0.0         0.0   \n",
       "2          0.0          0.0      0.0      0.0  ...    0.0    0.0         0.0   \n",
       "3          1.0          0.0      0.0      0.0  ...    1.0    0.0         0.0   \n",
       "4          0.0          0.0      0.0      1.0  ...    0.0    0.0         0.0   \n",
       "\n",
       "   occ_husb_3  occ_husb_4  occ_husb_5  occ_husb_6   age  yrs_married  children  \n",
       "0         0.0         0.0         1.0         0.0  32.0          9.0       3.0  \n",
       "1         0.0         1.0         0.0         0.0  27.0         13.0       3.0  \n",
       "2         0.0         0.0         1.0         0.0  22.0          2.5       0.0  \n",
       "3         0.0         0.0         1.0         0.0  37.0         16.5       4.0  \n",
       "4         0.0         1.0         0.0         0.0  27.0          9.0       1.0  \n",
       "\n",
       "[5 rows x 26 columns]"
      ]
     },
     "execution_count": 73,
     "metadata": {},
     "output_type": "execute_result"
    }
   ],
   "source": [
    "X.head()"
   ]
  },
  {
   "cell_type": "markdown",
   "metadata": {},
   "source": [
    "If using a formula to specify the terms to include, remember that like any formula, the intercept term will be included by default, so use 0 or -1 in your formula if you want to avoid this.\n",
    "\n",
    "The intercept term contains some extra metadata attached which can be ignored if not required."
   ]
  },
  {
   "cell_type": "code",
   "execution_count": 81,
   "metadata": {},
   "outputs": [
    {
     "data": {
      "text/plain": [
       "1.0    6366\n",
       "Name: Intercept, dtype: int64"
      ]
     },
     "execution_count": 81,
     "metadata": {},
     "output_type": "execute_result"
    }
   ],
   "source": [
    "X.Intercept.value_counts()"
   ]
  },
  {
   "cell_type": "code",
   "execution_count": 82,
   "metadata": {},
   "outputs": [],
   "source": [
    "# Since all the intercept terms are with value 1, we can alltogether drop this column.\n",
    "\n",
    "X = X.drop(\"Intercept\", axis = 1)"
   ]
  },
  {
   "cell_type": "code",
   "execution_count": 84,
   "metadata": {},
   "outputs": [
    {
     "data": {
      "text/plain": [
       "Index(['rate_marr_2', 'rate_marr_3', 'rate_marr_4', 'rate_marr_5',\n",
       "       'religious_2', 'religious_3', 'religious_4', 'educ_12', 'educ_14',\n",
       "       'educ_16', 'educ_17', 'educ_20', 'occ_2', 'occ_3', 'occ_4', 'occ_5',\n",
       "       'occ_6', 'occ_husb_2', 'occ_husb_3', 'occ_husb_4', 'occ_husb_5',\n",
       "       'occ_husb_6', 'age', 'yrs_married', 'children'],\n",
       "      dtype='object')"
      ]
     },
     "execution_count": 84,
     "metadata": {},
     "output_type": "execute_result"
    }
   ],
   "source": [
    "X.columns"
   ]
  },
  {
   "cell_type": "code",
   "execution_count": 75,
   "metadata": {},
   "outputs": [
    {
     "data": {
      "text/html": [
       "<div>\n",
       "<style scoped>\n",
       "    .dataframe tbody tr th:only-of-type {\n",
       "        vertical-align: middle;\n",
       "    }\n",
       "\n",
       "    .dataframe tbody tr th {\n",
       "        vertical-align: top;\n",
       "    }\n",
       "\n",
       "    .dataframe thead th {\n",
       "        text-align: right;\n",
       "    }\n",
       "</style>\n",
       "<table border=\"1\" class=\"dataframe\">\n",
       "  <thead>\n",
       "    <tr style=\"text-align: right;\">\n",
       "      <th></th>\n",
       "      <th>affair</th>\n",
       "    </tr>\n",
       "  </thead>\n",
       "  <tbody>\n",
       "    <tr>\n",
       "      <th>0</th>\n",
       "      <td>1.0</td>\n",
       "    </tr>\n",
       "    <tr>\n",
       "      <th>1</th>\n",
       "      <td>1.0</td>\n",
       "    </tr>\n",
       "    <tr>\n",
       "      <th>2</th>\n",
       "      <td>1.0</td>\n",
       "    </tr>\n",
       "    <tr>\n",
       "      <th>3</th>\n",
       "      <td>1.0</td>\n",
       "    </tr>\n",
       "    <tr>\n",
       "      <th>4</th>\n",
       "      <td>1.0</td>\n",
       "    </tr>\n",
       "  </tbody>\n",
       "</table>\n",
       "</div>"
      ],
      "text/plain": [
       "   affair\n",
       "0     1.0\n",
       "1     1.0\n",
       "2     1.0\n",
       "3     1.0\n",
       "4     1.0"
      ]
     },
     "execution_count": 75,
     "metadata": {},
     "output_type": "execute_result"
    }
   ],
   "source": [
    "y.head()"
   ]
  },
  {
   "cell_type": "code",
   "execution_count": 77,
   "metadata": {},
   "outputs": [
    {
     "data": {
      "text/plain": [
       "array([1., 1., 1., ..., 0., 0., 0.])"
      ]
     },
     "execution_count": 77,
     "metadata": {},
     "output_type": "execute_result"
    }
   ],
   "source": [
    "# flatten y into a 1-D array for sklearn \n",
    "\n",
    "y = np.ravel(y)\n",
    "y"
   ]
  },
  {
   "cell_type": "markdown",
   "metadata": {},
   "source": [
    "## DATA MODELLING"
   ]
  },
  {
   "cell_type": "code",
   "execution_count": 88,
   "metadata": {},
   "outputs": [],
   "source": [
    "x_train, x_test, y_train, y_test = train_test_split(X, y, test_size = 0.25,random_state=42)"
   ]
  },
  {
   "cell_type": "code",
   "execution_count": 89,
   "metadata": {},
   "outputs": [],
   "source": [
    "# instantiate a logistic regression model, and fit with X and y\n",
    "\n",
    "model = LogisticRegression(max_iter = 1000)\n",
    "model = model.fit(x_train, y_train)"
   ]
  },
  {
   "cell_type": "code",
   "execution_count": 106,
   "metadata": {},
   "outputs": [
    {
     "name": "stdout",
     "output_type": "stream",
     "text": [
      "The co-efficient for rate_marr_2 column is [-0.14026176]\n",
      "The co-efficient for rate_marr_3 column is [-0.44672644]\n",
      "The co-efficient for rate_marr_4 column is [-1.34523524]\n",
      "The co-efficient for rate_marr_5 column is [-1.98548194]\n",
      "The co-efficient for religious_2 column is [-0.25666139]\n",
      "The co-efficient for religious_3 column is [-0.59381245]\n",
      "The co-efficient for religious_4 column is [-1.21203419]\n",
      "The co-efficient for educ_12 column is [-0.06270663]\n",
      "The co-efficient for educ_14 column is [0.14079918]\n",
      "The co-efficient for educ_16 column is [-0.08400065]\n",
      "The co-efficient for educ_17 column is [0.06808649]\n",
      "The co-efficient for educ_20 column is [-0.01470713]\n",
      "The co-efficient for occ_2 column is [0.05179305]\n",
      "The co-efficient for occ_3 column is [0.38447955]\n",
      "The co-efficient for occ_4 column is [0.1489423]\n",
      "The co-efficient for occ_5 column is [0.69952473]\n",
      "The co-efficient for occ_6 column is [0.87825145]\n",
      "The co-efficient for occ_husb_2 column is [0.18014548]\n",
      "The co-efficient for occ_husb_3 column is [0.37903471]\n",
      "The co-efficient for occ_husb_4 column is [0.15819298]\n",
      "The co-efficient for occ_husb_5 column is [0.16226259]\n",
      "The co-efficient for occ_husb_6 column is [0.22370689]\n",
      "The co-efficient for age column is [-0.05590838]\n",
      "The co-efficient for yrs_married column is [0.10347293]\n",
      "The co-efficient for children column is [0.01142434]\n"
     ]
    }
   ],
   "source": [
    "# examine the coefficients\n",
    "cols = x_train.columns\n",
    "\n",
    "for i in range(25):\n",
    "    print(\"The co-efficient for {} column is {}\".format(cols[i], np.transpose(model.coef_)[i]))"
   ]
  },
  {
   "cell_type": "code",
   "execution_count": 107,
   "metadata": {},
   "outputs": [
    {
     "data": {
      "text/plain": [
       "0.7304147465437788"
      ]
     },
     "execution_count": 107,
     "metadata": {},
     "output_type": "execute_result"
    }
   ],
   "source": [
    "# check the accuracy on the training set\n",
    "model.score(x_train, y_train)"
   ]
  },
  {
   "cell_type": "code",
   "execution_count": 110,
   "metadata": {},
   "outputs": [
    {
     "data": {
      "text/plain": [
       "array([0., 1., 0., ..., 0., 0., 0.])"
      ]
     },
     "execution_count": 110,
     "metadata": {},
     "output_type": "execute_result"
    }
   ],
   "source": [
    "predicted = model.predict(x_test)\n",
    "predicted"
   ]
  },
  {
   "cell_type": "code",
   "execution_count": 108,
   "metadata": {},
   "outputs": [
    {
     "data": {
      "text/plain": [
       "0.7242462311557789"
      ]
     },
     "execution_count": 108,
     "metadata": {},
     "output_type": "execute_result"
    }
   ],
   "source": [
    "model.score(x_test, y_test)\n",
    "# print(metrics.accuracy_score(y_test, predicted))"
   ]
  },
  {
   "cell_type": "code",
   "execution_count": 112,
   "metadata": {},
   "outputs": [
    {
     "name": "stdout",
     "output_type": "stream",
     "text": [
      "[[941 114]\n",
      " [325 212]]\n",
      "\n",
      " \n",
      "\n",
      "              precision    recall  f1-score   support\n",
      "\n",
      "         0.0       0.74      0.89      0.81      1055\n",
      "         1.0       0.65      0.39      0.49       537\n",
      "\n",
      "    accuracy                           0.72      1592\n",
      "   macro avg       0.70      0.64      0.65      1592\n",
      "weighted avg       0.71      0.72      0.70      1592\n",
      "\n"
     ]
    }
   ],
   "source": [
    "print(metrics.confusion_matrix(y_test, predicted))\n",
    "print(\"\\n \\n\")\n",
    "print(metrics.classification_report(y_test, predicted))"
   ]
  },
  {
   "cell_type": "code",
   "execution_count": 122,
   "metadata": {},
   "outputs": [
    {
     "data": {
      "text/plain": [
       "GridSearchCV(cv=10, error_score=nan,\n",
       "             estimator=LogisticRegression(C=1.0, class_weight=None, dual=False,\n",
       "                                          fit_intercept=True,\n",
       "                                          intercept_scaling=1, l1_ratio=None,\n",
       "                                          max_iter=5000, multi_class='auto',\n",
       "                                          n_jobs=None, penalty='l2',\n",
       "                                          random_state=None, solver='lbfgs',\n",
       "                                          tol=0.0001, verbose=0,\n",
       "                                          warm_start=False),\n",
       "             iid='deprecated', n_jobs=None,\n",
       "             param_grid={'C': [0.001, 0.009, 0.01, 0.09, 1, 5, 10, 25]},\n",
       "             pre_dispatch='2*n_jobs', refit=True, return_train_score=False,\n",
       "             scoring='accuracy', verbose=0)"
      ]
     },
     "execution_count": 122,
     "metadata": {},
     "output_type": "execute_result"
    }
   ],
   "source": [
    "# evaluate the model using 10-fold cross-validation\n",
    "\n",
    "grid_values = {'C':[0.001,.009,0.01,.09,1,5,10,25]}\n",
    "grid_cv = GridSearchCV(LogisticRegression(max_iter = 5000), param_grid = grid_values, scoring='accuracy', cv=10)\n",
    "grid_cv.fit(x_train, y_train)"
   ]
  },
  {
   "cell_type": "code",
   "execution_count": 125,
   "metadata": {},
   "outputs": [],
   "source": [
    "y_pred_acc = grid_cv.predict(x_test)"
   ]
  },
  {
   "cell_type": "code",
   "execution_count": 129,
   "metadata": {},
   "outputs": [
    {
     "name": "stdout",
     "output_type": "stream",
     "text": [
      "Accuracy Score : 0.7242462311557789\n",
      "Precision Score : 0.649390243902439\n",
      "Recall Score : 0.39664804469273746\n",
      "F1 Score : 0.492485549132948\n"
     ]
    }
   ],
   "source": [
    "print('Accuracy Score : ' + str(accuracy_score(y_test,y_pred_acc)))\n",
    "print('Precision Score : ' + str(precision_score(y_test,y_pred_acc)))\n",
    "print('Recall Score : ' + str(recall_score(y_test,y_pred_acc)))\n",
    "print('F1 Score : ' + str(f1_score(y_test,y_pred_acc)))"
   ]
  },
  {
   "cell_type": "markdown",
   "metadata": {},
   "source": [
    "The best accuracy we can have is 72.42 with the tuned parameters above."
   ]
  },
  {
   "cell_type": "code",
   "execution_count": null,
   "metadata": {},
   "outputs": [],
   "source": []
  }
 ],
 "metadata": {
  "kernelspec": {
   "display_name": "Python 3",
   "language": "python",
   "name": "python3"
  },
  "language_info": {
   "codemirror_mode": {
    "name": "ipython",
    "version": 3
   },
   "file_extension": ".py",
   "mimetype": "text/x-python",
   "name": "python",
   "nbconvert_exporter": "python",
   "pygments_lexer": "ipython3",
   "version": "3.7.3"
  }
 },
 "nbformat": 4,
 "nbformat_minor": 4
}
