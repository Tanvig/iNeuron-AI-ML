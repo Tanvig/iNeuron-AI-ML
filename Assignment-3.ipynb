{
 "cells": [
  {
   "cell_type": "markdown",
   "metadata": {},
   "source": [
    "# ASSIGNMENT 3"
   ]
  },
  {
   "cell_type": "markdown",
   "metadata": {},
   "source": [
    "## TASK 1"
   ]
  },
  {
   "cell_type": "markdown",
   "metadata": {},
   "source": [
    "## 1. Write a function to compute 5/0 and use try/except to catch the exceptions.\n"
   ]
  },
  {
   "cell_type": "code",
   "execution_count": 1,
   "metadata": {},
   "outputs": [
    {
     "name": "stdout",
     "output_type": "stream",
     "text": [
      "Divide by zero operation is not supported\n",
      "\n",
      "Out of try/except block\n"
     ]
    }
   ],
   "source": [
    "try:\n",
    "    print(\"This is gonna raise exceptions:\", 5/0)\n",
    "    \n",
    "except:\n",
    "    print(\"Divide by zero operation is not supported\")\n",
    "    \n",
    "print(\"\\nOut of try/except block\")\n",
    "    "
   ]
  },
  {
   "cell_type": "markdown",
   "metadata": {},
   "source": [
    "## 2. Implement a Python program to generate all sentences where subject is in \"Americans\", \"Indians\"] and verb is in [\"Play\", \"watch\"] and the object is in [\"Baseball\",\"cricket\"].\n",
    "\n",
    "## Hint: Subject,Verb and Object should be declared in the program as shown below.\n",
    "\n",
    "## subjects=[\"Americans \",\"Indians\"]\n",
    "## verbs=[\"play\",\"watch\"]\n",
    "## objects=[\"Baseball\",\"Cricket\"]\n"
   ]
  },
  {
   "cell_type": "code",
   "execution_count": 2,
   "metadata": {},
   "outputs": [
    {
     "name": "stdout",
     "output_type": "stream",
     "text": [
      "['Americans play Baseball', 'Americans play Cricket', 'Americans watch Baseball', 'Americans watch Cricket', 'Indians play Baseball', 'Indians play Cricket', 'Indians watch Baseball', 'Indians watch Cricket']\n"
     ]
    }
   ],
   "source": [
    "subjects=[\"Americans\",\"Indians\"]\n",
    "verbs=[\"play\",\"watch\"]\n",
    "objects=[\"Baseball\",\"Cricket\"]\n",
    "\n",
    "def generate_sentence(subjects, verbs, objects):\n",
    "    list_of_sentences = [i + \" \" + j + \" \" + k for i in subjects for j in verbs for k in objects]\n",
    "    return list_of_sentences\n",
    "\n",
    "print(generate_sentence(subjects,verbs,objects))"
   ]
  },
  {
   "cell_type": "markdown",
   "metadata": {},
   "source": [
    "# TASK 2"
   ]
  },
  {
   "cell_type": "markdown",
   "metadata": {},
   "source": [
    "## Write a function so that the columns of the output matrix are powers of the input vector. The order of the powers is determined by the increasing boolean argument. Specifically, when increasing is False, the i-th output column is the input vector raised element-wise to the power of N - i - 1.\n",
    "## HINT: Such a matrix with a geometric progression in each row is named for AlexandreTheophile Vandermonde.\n"
   ]
  },
  {
   "cell_type": "code",
   "execution_count": 24,
   "metadata": {},
   "outputs": [
    {
     "name": "stdout",
     "output_type": "stream",
     "text": [
      "Enter the input vector seprated by comma:1,2,3,5\n",
      "If you want increasing order of powers enter True else False:True\n",
      "Enter the number of columns:4\n",
      "bool:  True\n",
      "[[1, 1, 1, 1], [1, 2, 4, 8], [1, 3, 9, 27], [1, 5, 25, 125]]\n",
      "Enter the input vector seprated by comma:1,2,3,5\n",
      "If you want increasing order of powers enter True else False:False\n",
      "Enter the number of columns:4\n",
      "[[1, 1, 1, 1], [8, 4, 2, 1], [27, 9, 3, 1], [125, 25, 5, 1]]\n"
     ]
    }
   ],
   "source": [
    "def input_vec():\n",
    "    inp = (input(\"Enter the input vector seprated by comma:\"))\n",
    "    bool_val = (input(\"If you want increasing order of powers enter True else False:\"))\n",
    "    N = int(input(\"Enter the number of columns:\"))\n",
    "    inp = inp.split(\",\")\n",
    "    inp_v = []\n",
    "    for i in inp:\n",
    "        inp_v.append(int(i))\n",
    "    return (inp_v, bool_val, N)\n",
    "\n",
    "def matrix(inp_v, bool_val, N):\n",
    "    #print(bool_val)\n",
    "    if bool_val == \"True\":\n",
    "        out_matrix = [[i ** j for j in range(N)] for i in inp_v]\n",
    "        print(out_matrix)\n",
    "                \n",
    "    elif bool_val == \"False\":        \n",
    "        out_matrix = [[i ** j for j in reversed(range(N))] for i in inp_v]\n",
    "        print(out_matrix)\n",
    "    \n",
    "        \n",
    "\n",
    "    \n",
    "\n",
    "inp_v, bool_val, N = input_vec()\n",
    "print(\"bool: \", bool_val)\n",
    "matrix(inp_v, bool_val,N)\n",
    "inp_v, bool_val, N = input_vec()\n",
    "matrix(inp_v, bool_val,N)\n"
   ]
  },
  {
   "cell_type": "code",
   "execution_count": null,
   "metadata": {},
   "outputs": [],
   "source": []
  },
  {
   "cell_type": "code",
   "execution_count": null,
   "metadata": {},
   "outputs": [],
   "source": []
  }
 ],
 "metadata": {
  "kernelspec": {
   "display_name": "Python 3",
   "language": "python",
   "name": "python3"
  },
  "language_info": {
   "codemirror_mode": {
    "name": "ipython",
    "version": 3
   },
   "file_extension": ".py",
   "mimetype": "text/x-python",
   "name": "python",
   "nbconvert_exporter": "python",
   "pygments_lexer": "ipython3",
   "version": "3.7.3"
  }
 },
 "nbformat": 4,
 "nbformat_minor": 2
}
